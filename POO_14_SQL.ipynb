{
  "nbformat": 4,
  "nbformat_minor": 0,
  "metadata": {
    "colab": {
      "provenance": []
    },
    "kernelspec": {
      "name": "python3",
      "display_name": "Python 3"
    },
    "language_info": {
      "name": "python"
    }
  },
  "cells": [
    {
      "cell_type": "markdown",
      "source": [
        "# Introducción\n",
        "\n",
        "**SQL** (Structured Query Language) o Lenguaje de Consulta Estructurada en español, es un lenguaje específico de dominio (DSL) diseñado para gestionar y recuperar información en sistemas de gestión de bases de datos relacionales (SGBDR). Es uno de los lenguajes más utilizados en el ámbito de la informática para interactuar con bases de datos.\n",
        "\n",
        "Los Ingenieros Industriales pueden utilizar SQL para una amplia gama de tareas, incluyendo:\n",
        "* **Análisis de datos**: SQL permite a los ingenieros industriales extraer, limpiar y analizar datos de diversas fuentes, como sistemas de producción, inventarios y registros de clientes. Esto les permite identificar tendencias, patrones y anomalías que pueden ser utilizadas para mejorar la eficiencia y la toma de decisiones.\n",
        "* **Optimización de procesos**: SQL puede ser utilizado para identificar cuellos de botella en los procesos de producción y para desarrollar soluciones que mejoren la eficiencia y la productividad.\n",
        "* **Control de calidad**: SQL puede ser utilizado para monitorizar la calidad de los productos y para identificar los defectos que necesitan ser corregidos.\n",
        "* **Toma de decisiones**: SQL puede ser utilizado para generar informes y cuadros de mando que ayuden a los ingenieros industriales a tomar mejores decisiones sobre la producción, la logística y la gestión de la cadena de suministro.\n",
        "\n",
        "Existen diversas librerías que te permiten trabajar con SQL en Google Colab, cada una con sus propias características y ventajas. A continuación, te presento algunas de las más populares:\n",
        "\n",
        "1. **ipykernel**:\n",
        "Es un kernel de Jupyter que permite ejecutar código SQL directamente en Colab.\n",
        "Ofrece una integración perfecta con el entorno de Jupyter, lo que facilita la visualización y el análisis de datos.\n",
        "Es compatible con una amplia gama de bases de datos, incluyendo MySQL, PostgreSQL y SQLite.\n",
        "2. **SQLAlchemy**:\n",
        "Es una biblioteca de Python para el manejo de bases de datos relacionales.\n",
        "Proporciona una interfaz de alto nivel que simplifica la interacción con las bases de datos.\n",
        "Es compatible con una amplia gama de motores de bases de datos, incluyendo MySQL, PostgreSQL, SQLite y Oracle.\n",
        "3. **Psycopg2**:\n",
        "Es un adaptador de Python para la base de datos PostgreSQL.\n",
        "Ofrece un rendimiento rápido y una amplia gama de funciones para trabajar con PostgreSQL.\n",
        "Es fácil de usar e instalar.\n",
        "4. **cx_Oracle**:\n",
        "Es un adaptador de Python para la base de datos Oracle.\n",
        "Permite ejecutar consultas SQL y manipular datos en bases de datos Oracle.\n",
        "Es compatible con una amplia gama de versiones de Oracle.\n",
        "5. **PyMySQL**:\n",
        "Es un adaptador de Python para la base de datos MySQL.\n",
        "Proporciona una interfaz sencilla para interactuar con bases de datos MySQL.\n",
        "Es fácil de instalar y usar.\n",
        "\n",
        "https://www.edx.org/learn/sql"
      ],
      "metadata": {
        "id": "e3zU-yRa39aH"
      }
    },
    {
      "cell_type": "code",
      "execution_count": 1,
      "metadata": {
        "id": "2HpK14iY35eh"
      },
      "outputs": [],
      "source": [
        "import sqlite3"
      ]
    },
    {
      "cell_type": "markdown",
      "source": [
        "MySQL necesita conexiones e instalaciones; el benchmark es el mejor de todos los \"Queries\". La ventaja de trabajar con sqlite, es que podemos crear bases de datos por default; mientras que en MySQL es necesario crear la base de datos."
      ],
      "metadata": {
        "id": "fRfUi20k87cA"
      }
    },
    {
      "cell_type": "markdown",
      "source": [
        "**Vamos a crear una base de datos**\n",
        "\n",
        "Nuestra base de datos consistirá de libros."
      ],
      "metadata": {
        "id": "Pz86sKkh-SY8"
      }
    },
    {
      "cell_type": "code",
      "source": [
        "# Para crear la base de datos, es necesario conectar con el servidor de SQL.\n",
        "\n",
        "con = sqlite3.connect(\"libros_db.sqlite\")"
      ],
      "metadata": {
        "id": "z_YpBDuj-4GY"
      },
      "execution_count": 2,
      "outputs": []
    },
    {
      "cell_type": "markdown",
      "source": [
        "Ahora, vamos a diseñar nuestra **tabla**:"
      ],
      "metadata": {
        "id": "Sohwd3kE_y-3"
      }
    },
    {
      "cell_type": "code",
      "source": [
        "# Creamos un cursor\n",
        "\n",
        "cursor = con.cursor()\n",
        "\n",
        "# Aqui vamos a ejecutar los datos necesarios para ejecutar la tabla\n",
        "\n",
        "cursor.execute('''\n",
        "CREATE TABLE libros (\n",
        "      id INTEGER PRIMARY KEY,\n",
        "      titulo TEXT NOT NULL,\n",
        "      autor TEXT NO NULL,\n",
        "      año INTEGER\n",
        ")\n",
        "\n",
        "''')"
      ],
      "metadata": {
        "colab": {
          "base_uri": "https://localhost:8080/"
        },
        "id": "_GPXWLrd_fAH",
        "outputId": "19726678-d0c5-4a3a-8564-a058f2b9d7a0"
      },
      "execution_count": 3,
      "outputs": [
        {
          "output_type": "execute_result",
          "data": {
            "text/plain": [
              "<sqlite3.Cursor at 0x7b74aa4d9640>"
            ]
          },
          "metadata": {},
          "execution_count": 3
        }
      ]
    },
    {
      "cell_type": "code",
      "source": [
        "libros_datos = [ (\"Harry Potter\", \"Rowling\", 1997),\n",
        "                 (\"The Hobbit\", \"Tolkien\", 1937),\n",
        "                 (\"Diario de Greg\", \"Kinney\", 2007),\n",
        "                 (\"Duna\", \"Herbert\", 1965)]\n",
        "\n",
        "cursor.executemany(\"\"\"\n",
        "INSERT INTO libros (titulo, autor, año) VALUES (?,?,?)\"\"\", libros_datos)\n",
        "con.commit()"
      ],
      "metadata": {
        "id": "E_HkePxQEAeE"
      },
      "execution_count": 4,
      "outputs": []
    },
    {
      "cell_type": "code",
      "source": [
        "cursor.execute(\"SELECT * FROM libros\")\n",
        "libros = cursor.fetchall()\n",
        "for libro in libros:\n",
        "  print(libros)"
      ],
      "metadata": {
        "colab": {
          "base_uri": "https://localhost:8080/"
        },
        "id": "DGF6Tg8cGjNk",
        "outputId": "41571cd4-5632-4374-86c0-c0abff6f3330"
      },
      "execution_count": 6,
      "outputs": [
        {
          "output_type": "stream",
          "name": "stdout",
          "text": [
            "[(1, 'Harry Potter', 'Rowling', 1997), (2, 'The Hobbit', 'Tolkien', 1937), (3, 'Diario de Greg', 'Kinney', 2007), (4, 'Duna', 'Herbert', 1965)]\n",
            "[(1, 'Harry Potter', 'Rowling', 1997), (2, 'The Hobbit', 'Tolkien', 1937), (3, 'Diario de Greg', 'Kinney', 2007), (4, 'Duna', 'Herbert', 1965)]\n",
            "[(1, 'Harry Potter', 'Rowling', 1997), (2, 'The Hobbit', 'Tolkien', 1937), (3, 'Diario de Greg', 'Kinney', 2007), (4, 'Duna', 'Herbert', 1965)]\n",
            "[(1, 'Harry Potter', 'Rowling', 1997), (2, 'The Hobbit', 'Tolkien', 1937), (3, 'Diario de Greg', 'Kinney', 2007), (4, 'Duna', 'Herbert', 1965)]\n"
          ]
        }
      ]
    }
  ]
}